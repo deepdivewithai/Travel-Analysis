{
 "cells": [
  {
   "cell_type": "code",
   "execution_count": null,
   "id": "339a4fd3",
   "metadata": {},
   "outputs": [],
   "source": [
    "import pandas as pd\n",
    "pd.set_option('display.max_columns',None)\n",
    "\n",
    "from data_processing import clean_and_process_data,generate_report,top_revenue_countries\n",
    "\n",
    "path = \"API_ST.INT.ARVL_DS2_en_csv_v2_5994899.csv\"\n",
    "travel = clean_and_process_data(path)\n",
    "\n",
    "travel.head() "
   ]
  },
  {
   "cell_type": "code",
   "execution_count": null,
   "id": "4beb9e78",
   "metadata": {},
   "outputs": [],
   "source": [
    "generate_report(travel,\"2015\")"
   ]
  },
  {
   "cell_type": "markdown",
   "id": "72fb8eda",
   "metadata": {},
   "source": [
    "# 1. Trend Analysis: What are the top 10 countries with the highest growth in international tourist arrivals over the last decade?"
   ]
  },
  {
   "cell_type": "code",
   "execution_count": null,
   "id": "973ac987",
   "metadata": {},
   "outputs": [],
   "source": [
    "from data_processing import calculate_growth_rate,generate_growth_report\n",
    "\n",
    "travel = clean_and_process_data(path)\n",
    "\n",
    "travel_with_growth = calculate_growth_rate(travel)"
   ]
  },
  {
   "cell_type": "code",
   "execution_count": null,
   "id": "68a00768",
   "metadata": {},
   "outputs": [],
   "source": [
    "# Defaut is median\n",
    "start_year = \"2010\"\n",
    "end_year= \"2020\"\n",
    "\n",
    "generate_growth_report(travel_with_growth,start_year,end_year)"
   ]
  },
  {
   "cell_type": "markdown",
   "id": "c242405b",
   "metadata": {},
   "source": [
    "# 2. Comparative Analysis: How do the arrival numbers compare before and after significant global events (e.g., economic crises, pandemics)?"
   ]
  },
  {
   "cell_type": "code",
   "execution_count": null,
   "id": "cbf27c2c",
   "metadata": {},
   "outputs": [],
   "source": [
    "from data_processing import compare_events_impact, plot_comparative_analysis\n",
    "\n",
    "travel = clean_and_process_data(path)\n",
    "\n",
    "economic_crisis_years = [2008]  # Economic crisis in 2008\n",
    "pandemic_years = [2003, 2009, 2019]  # Pandemics in 2003 (SARS), 2009 (H1N1), and 2019 (COVID-19)\n",
    "\n",
    "comparative_data = compare_events_impact(travel, economic_crisis_years, pandemic_years)\n",
    "\n",
    "plot_comparative_analysis(comparative_data)"
   ]
  },
  {
   "cell_type": "markdown",
   "id": "0a43fb37",
   "metadata": {},
   "source": [
    "# 3. Seasonality: For countries with seasonal tourism, what are the peak and off-peak periods?"
   ]
  },
  {
   "cell_type": "markdown",
   "id": "d9c6ef3d",
   "metadata": {},
   "source": [
    "# 4. Market Segmentation: Which regions show the most significant potential for market expansion based on recent growth trends?"
   ]
  },
  {
   "cell_type": "markdown",
   "id": "07f8c0b9",
   "metadata": {},
   "source": [
    "# 5. Performance Benchmarks: How do specific countries' tourism numbers compare to the regional averages?"
   ]
  },
  {
   "cell_type": "markdown",
   "id": "fa9db270",
   "metadata": {},
   "source": [
    "# 6. Economic Impact: Is there a correlation between tourism arrivals and the economic performance of the destination country?"
   ]
  },
  {
   "cell_type": "markdown",
   "id": "224d78b9",
   "metadata": {},
   "source": [
    "# 7. Marketing Effectiveness: After marketing campaigns or major tourism investments, is there a noticeable increase in tourist arrivals?"
   ]
  },
  {
   "cell_type": "markdown",
   "id": "3bceb241",
   "metadata": {},
   "source": [
    "# 8. Capacity Planning: Are there countries that have a high number of arrivals but relatively low infrastructure investment?"
   ]
  },
  {
   "cell_type": "markdown",
   "id": "2b84dacd",
   "metadata": {},
   "source": [
    "# 9. Sustainability: Are countries with high tourist arrivals also investing in sustainable tourism practices?"
   ]
  },
  {
   "cell_type": "markdown",
   "id": "e4040d2a",
   "metadata": {},
   "source": [
    "# 10. Competitive Analysis: What are the common factors among the countries that have successfully increased their tourist arrivals?"
   ]
  }
 ],
 "metadata": {
  "kernelspec": {
   "display_name": "Python 3 (ipykernel)",
   "language": "python",
   "name": "python3"
  },
  "language_info": {
   "codemirror_mode": {
    "name": "ipython",
    "version": 3
   },
   "file_extension": ".py",
   "mimetype": "text/x-python",
   "name": "python",
   "nbconvert_exporter": "python",
   "pygments_lexer": "ipython3",
   "version": "3.11.5"
  }
 },
 "nbformat": 4,
 "nbformat_minor": 5
}
